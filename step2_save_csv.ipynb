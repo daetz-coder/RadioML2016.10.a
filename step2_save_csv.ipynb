{
 "cells": [
  {
   "cell_type": "code",
   "execution_count": 4,
   "id": "14588019-b94f-48d3-a77c-98f1936d933a",
   "metadata": {},
   "outputs": [],
   "source": [
    "import pickle\n",
    "import pandas as pd\n",
    "\n",
    "# 指定pickle文件路径\n",
    "pickle_file_path = './data/RML2016.10a_dict.pkl'\n",
    "\n",
    "# 加载数据\n",
    "with open(pickle_file_path, 'rb') as file:\n",
    "    data_dict = pickle.load(file, encoding='latin1')\n",
    "\n",
    "data_frame = pd.DataFrame()\n",
    "\n",
    "# 用于跟踪已处理的信噪比\n",
    "snr_processed = set()\n",
    "\n",
    "# 遍历数据字典\n",
    "for key, value in data_dict.items():\n",
    "    mod_type, snr = key\n",
    "    # 只处理QAM64类型，并且确保每个信噪比只处理一次\n",
    "    if mod_type == 'QAM64' and snr not in snr_processed:\n",
    "        snr_processed.add(snr)\n",
    "        # 获取第一个样本\n",
    "        first_sample = value[0].flatten()  # 扁平化处理\n",
    "        # 创建临时DataFrame\n",
    "        temp_df = pd.DataFrame([first_sample], columns=[f'Sample_{i}' for i in range(first_sample.size)])\n",
    "        temp_df['Mod_Type'] = mod_type\n",
    "        temp_df['SNR'] = snr\n",
    "        data_frame = pd.concat([data_frame, temp_df], ignore_index=True)\n",
    "\n",
    "# 保存DataFrame到CSV文件\n",
    "data_frame.to_csv('output_data_single.csv', index=False)\n"
   ]
  },
  {
   "cell_type": "code",
   "execution_count": 5,
   "id": "33131cb6-c579-485b-bce8-d5cb66f6f1f6",
   "metadata": {},
   "outputs": [
    {
     "name": "stdout",
     "output_type": "stream",
     "text": [
      "Data processing complete. CSV file saved.\n"
     ]
    }
   ],
   "source": [
    "import pickle\n",
    "import pandas as pd\n",
    "\n",
    "# 指定pickle文件路径\n",
    "pickle_file_path = './data/RML2016.10a_dict.pkl'\n",
    "\n",
    "# 加载数据\n",
    "with open(pickle_file_path, 'rb') as file:\n",
    "    data_dict = pickle.load(file, encoding='latin1')\n",
    "\n",
    "data_frame = pd.DataFrame()\n",
    "\n",
    "# 用于跟踪已处理的(调制类型, 信噪比)对\n",
    "processed_pairs = set()\n",
    "\n",
    "# 遍历数据字典\n",
    "for key, value in data_dict.items():\n",
    "    mod_type, snr = key\n",
    "    # 确保每个(调制类型, 信噪比)对只处理一次\n",
    "    if (mod_type, snr) not in processed_pairs:\n",
    "        processed_pairs.add((mod_type, snr))\n",
    "        # 获取第一个样本并扁平化处理\n",
    "        first_sample = value[0].flatten()\n",
    "        # 创建临时DataFrame\n",
    "        temp_df = pd.DataFrame([first_sample], columns=[f'Sample_{i}' for i in range(first_sample.size)])\n",
    "        temp_df['Mod_Type'] = mod_type\n",
    "        temp_df['SNR'] = snr\n",
    "        # 将新数据添加到主DataFrame\n",
    "        data_frame = pd.concat([data_frame, temp_df], ignore_index=True)\n",
    "\n",
    "# 保存DataFrame到CSV文件\n",
    "data_frame.to_csv('output_data_multi.csv', index=False)\n",
    "\n",
    "print(\"Data processing complete. CSV file saved.\")\n"
   ]
  },
  {
   "cell_type": "code",
   "execution_count": null,
   "id": "928a720f-eaac-4c02-821d-72f1da0ff640",
   "metadata": {},
   "outputs": [],
   "source": []
  }
 ],
 "metadata": {
  "kernelspec": {
   "display_name": "Python 3 (ipykernel)",
   "language": "python",
   "name": "python3"
  },
  "language_info": {
   "codemirror_mode": {
    "name": "ipython",
    "version": 3
   },
   "file_extension": ".py",
   "mimetype": "text/x-python",
   "name": "python",
   "nbconvert_exporter": "python",
   "pygments_lexer": "ipython3",
   "version": "3.8.10"
  }
 },
 "nbformat": 4,
 "nbformat_minor": 5
}
